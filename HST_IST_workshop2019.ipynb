{
 "cells": [
  {
   "cell_type": "markdown",
   "metadata": {},
   "source": [
    "<br>\n",
    "\n",
    "# Plotting the invariant mass histogram"
   ]
  },
  {
   "cell_type": "markdown",
   "metadata": {},
   "source": [
    "\n",
    "\n",
    "<img src=\"https://highenergy.physics.uiowa.edu/application/files/9815/4732/1791/CMS_Detector.png\"  align=\"center\" width=\"900px\" title=\"CMS detector at CERN\"> \n",
    "<a id=\"standardimalli\"></a>\n",
    "\n",
    "In this exercise we learn how to use Python-programming to plot a histogram. We use a dataset collected by the CMS detector in 2011 [1]. The data consists of such events, where two muons were created in a collision. We want to plot a histogram of the invariant mass of the two muons created in the collision. Events with specific criteria [2] have been selected in the CSV file _Ymumu_\\__Run2011A.csv_ which we are using.\n",
    "\n",
    "Explore the different code cells below and run the codes by clicking the code cell active and pressing the _Run_-button on the upper panel. In the code cells the lines which begin with #-character are comment lines, where you can see what the actual code does. Other lines are code lines.\n",
    "<br>\n",
    "<br>\n",
    "[1]  CMS collaboration (2016). DoubleMu primary dataset in AOD format from RunA of 2011 (/DoubleMu/Run2011A-12Oct2013-v1/AOD). CERN Open Data Portal. DOI: [10.7483/OPENDATA.CMS.RZ34.QR6N](http://doi.org/10.7483/OPENDATA.CMS.RZ34.QR6N).\n",
    "<br>\n",
    "[2] Thomas McCauley (2016). Ymumu. Jupyter Notebook file. https://github.com/tpmccauley/cmsopendata-jupyter/blob/hst-0.1/Ymumu.ipynb."
   ]
  },
  {
   "cell_type": "markdown",
   "metadata": {},
   "source": [
    "### 1) Start"
   ]
  },
  {
   "cell_type": "code",
   "execution_count": 1,
   "metadata": {},
   "outputs": [],
   "source": [
    "# Let's import the needed modules.\n",
    "# Pandas-module is needed to read the csv-file.\n",
    "# Matplotlib.pylab-module is needed to make plots.\n",
    "# Modules are named as pd and plt so that we don't have to write the whole name in the future.\n",
    "import pandas as pd\n",
    "import matplotlib.pylab as plt"
   ]
  },
  {
   "cell_type": "markdown",
   "metadata": {},
   "source": [
    "### 2) Getting the data"
   ]
  },
  {
   "cell_type": "code",
   "execution_count": 5,
   "metadata": {},
   "outputs": [
    {
     "data": {
      "text/html": [
       "<div>\n",
       "<style scoped>\n",
       "    .dataframe tbody tr th:only-of-type {\n",
       "        vertical-align: middle;\n",
       "    }\n",
       "\n",
       "    .dataframe tbody tr th {\n",
       "        vertical-align: top;\n",
       "    }\n",
       "\n",
       "    .dataframe thead th {\n",
       "        text-align: right;\n",
       "    }\n",
       "</style>\n",
       "<table border=\"1\" class=\"dataframe\">\n",
       "  <thead>\n",
       "    <tr style=\"text-align: right;\">\n",
       "      <th></th>\n",
       "      <th>Run</th>\n",
       "      <th>Event</th>\n",
       "      <th>type1</th>\n",
       "      <th>E1</th>\n",
       "      <th>px1</th>\n",
       "      <th>py1</th>\n",
       "      <th>pz1</th>\n",
       "      <th>pt1</th>\n",
       "      <th>eta1</th>\n",
       "      <th>phi1</th>\n",
       "      <th>...</th>\n",
       "      <th>type2</th>\n",
       "      <th>E2</th>\n",
       "      <th>px2</th>\n",
       "      <th>py2</th>\n",
       "      <th>pz2</th>\n",
       "      <th>pt2</th>\n",
       "      <th>eta2</th>\n",
       "      <th>phi2</th>\n",
       "      <th>Q2</th>\n",
       "      <th>M</th>\n",
       "    </tr>\n",
       "  </thead>\n",
       "  <tbody>\n",
       "    <tr>\n",
       "      <th>0</th>\n",
       "      <td>165617</td>\n",
       "      <td>74601703</td>\n",
       "      <td>G</td>\n",
       "      <td>9.6987</td>\n",
       "      <td>-9.5104</td>\n",
       "      <td>0.3662</td>\n",
       "      <td>1.8633</td>\n",
       "      <td>9.5175</td>\n",
       "      <td>0.1945</td>\n",
       "      <td>3.1031</td>\n",
       "      <td>...</td>\n",
       "      <td>G</td>\n",
       "      <td>9.7633</td>\n",
       "      <td>7.3277</td>\n",
       "      <td>-1.1524</td>\n",
       "      <td>6.3473</td>\n",
       "      <td>7.4178</td>\n",
       "      <td>0.7756</td>\n",
       "      <td>-0.1560</td>\n",
       "      <td>1</td>\n",
       "      <td>17.4922</td>\n",
       "    </tr>\n",
       "    <tr>\n",
       "      <th>1</th>\n",
       "      <td>165617</td>\n",
       "      <td>75100943</td>\n",
       "      <td>G</td>\n",
       "      <td>6.2039</td>\n",
       "      <td>-4.2666</td>\n",
       "      <td>0.4565</td>\n",
       "      <td>-4.4793</td>\n",
       "      <td>4.2910</td>\n",
       "      <td>-0.9121</td>\n",
       "      <td>3.0350</td>\n",
       "      <td>...</td>\n",
       "      <td>G</td>\n",
       "      <td>9.6690</td>\n",
       "      <td>7.2740</td>\n",
       "      <td>-2.8211</td>\n",
       "      <td>-5.7104</td>\n",
       "      <td>7.8019</td>\n",
       "      <td>-0.6786</td>\n",
       "      <td>-0.3700</td>\n",
       "      <td>1</td>\n",
       "      <td>11.5534</td>\n",
       "    </tr>\n",
       "    <tr>\n",
       "      <th>2</th>\n",
       "      <td>165617</td>\n",
       "      <td>75587682</td>\n",
       "      <td>G</td>\n",
       "      <td>19.2892</td>\n",
       "      <td>-4.2121</td>\n",
       "      <td>-0.6516</td>\n",
       "      <td>18.8121</td>\n",
       "      <td>4.2622</td>\n",
       "      <td>2.1905</td>\n",
       "      <td>-2.9881</td>\n",
       "      <td>...</td>\n",
       "      <td>G</td>\n",
       "      <td>9.8244</td>\n",
       "      <td>4.3439</td>\n",
       "      <td>-0.4735</td>\n",
       "      <td>8.7985</td>\n",
       "      <td>4.3697</td>\n",
       "      <td>1.4497</td>\n",
       "      <td>-0.1086</td>\n",
       "      <td>1</td>\n",
       "      <td>9.1636</td>\n",
       "    </tr>\n",
       "    <tr>\n",
       "      <th>3</th>\n",
       "      <td>165617</td>\n",
       "      <td>75660978</td>\n",
       "      <td>G</td>\n",
       "      <td>7.0427</td>\n",
       "      <td>-6.3268</td>\n",
       "      <td>-0.2685</td>\n",
       "      <td>3.0802</td>\n",
       "      <td>6.3325</td>\n",
       "      <td>0.4690</td>\n",
       "      <td>-3.0992</td>\n",
       "      <td>...</td>\n",
       "      <td>G</td>\n",
       "      <td>5.5857</td>\n",
       "      <td>4.4748</td>\n",
       "      <td>0.8489</td>\n",
       "      <td>-3.2319</td>\n",
       "      <td>4.5546</td>\n",
       "      <td>-0.6605</td>\n",
       "      <td>0.1875</td>\n",
       "      <td>1</td>\n",
       "      <td>12.4774</td>\n",
       "    </tr>\n",
       "    <tr>\n",
       "      <th>4</th>\n",
       "      <td>165617</td>\n",
       "      <td>75947690</td>\n",
       "      <td>G</td>\n",
       "      <td>7.2751</td>\n",
       "      <td>0.1030</td>\n",
       "      <td>-5.5331</td>\n",
       "      <td>-4.7212</td>\n",
       "      <td>5.5340</td>\n",
       "      <td>-0.7736</td>\n",
       "      <td>-1.5522</td>\n",
       "      <td>...</td>\n",
       "      <td>G</td>\n",
       "      <td>7.3181</td>\n",
       "      <td>-0.3988</td>\n",
       "      <td>6.9408</td>\n",
       "      <td>2.2825</td>\n",
       "      <td>6.9523</td>\n",
       "      <td>0.3227</td>\n",
       "      <td>1.6282</td>\n",
       "      <td>1</td>\n",
       "      <td>14.3159</td>\n",
       "    </tr>\n",
       "  </tbody>\n",
       "</table>\n",
       "<p>5 rows × 21 columns</p>\n",
       "</div>"
      ],
      "text/plain": [
       "      Run     Event type1       E1     px1     py1      pz1     pt1    eta1  \\\n",
       "0  165617  74601703     G   9.6987 -9.5104  0.3662   1.8633  9.5175  0.1945   \n",
       "1  165617  75100943     G   6.2039 -4.2666  0.4565  -4.4793  4.2910 -0.9121   \n",
       "2  165617  75587682     G  19.2892 -4.2121 -0.6516  18.8121  4.2622  2.1905   \n",
       "3  165617  75660978     G   7.0427 -6.3268 -0.2685   3.0802  6.3325  0.4690   \n",
       "4  165617  75947690     G   7.2751  0.1030 -5.5331  -4.7212  5.5340 -0.7736   \n",
       "\n",
       "     phi1  ...  type2      E2     px2     py2     pz2     pt2    eta2    phi2  \\\n",
       "0  3.1031  ...      G  9.7633  7.3277 -1.1524  6.3473  7.4178  0.7756 -0.1560   \n",
       "1  3.0350  ...      G  9.6690  7.2740 -2.8211 -5.7104  7.8019 -0.6786 -0.3700   \n",
       "2 -2.9881  ...      G  9.8244  4.3439 -0.4735  8.7985  4.3697  1.4497 -0.1086   \n",
       "3 -3.0992  ...      G  5.5857  4.4748  0.8489 -3.2319  4.5546 -0.6605  0.1875   \n",
       "4 -1.5522  ...      G  7.3181 -0.3988  6.9408  2.2825  6.9523  0.3227  1.6282   \n",
       "\n",
       "   Q2        M  \n",
       "0   1  17.4922  \n",
       "1   1  11.5534  \n",
       "2   1   9.1636  \n",
       "3   1  12.4774  \n",
       "4   1  14.3159  \n",
       "\n",
       "[5 rows x 21 columns]"
      ]
     },
     "execution_count": 5,
     "metadata": {},
     "output_type": "execute_result"
    }
   ],
   "source": [
    "# Read the file \"Ymumu_Run2011A.csv\" and save the content to a variable called \"dataset\"\n",
    "dataset = pd.read_csv(\"https://raw.githubusercontent.com/cms-opendata-education/cms-jupyter-materials-english/master/Data/Ymumu_Run2011A.csv\")\n",
    "\n",
    "# Let's see what our datafile contains. You can read more lines by inserting a number in\n",
    "# parenthesis. The default is 5 lines.\n",
    "dataset.head()"
   ]
  },
  {
   "cell_type": "code",
   "execution_count": 6,
   "metadata": {},
   "outputs": [],
   "source": [
    "# We want to make a histogram of the invariant masses, which can be found in the column \"M\". \n",
    "# Let's save the column \"M\" from the \"dataset\" to the variable \"invariant_mass\".\n",
    "invariant_mass = dataset['M']"
   ]
  },
  {
   "cell_type": "markdown",
   "metadata": {},
   "source": [
    "### 3) Plotting the histogram"
   ]
  },
  {
   "cell_type": "markdown",
   "metadata": {},
   "source": [
    "Now we can create and plot the histogram of the values of the invariant masses that we got. The histogram shows that in how many events the invariant mass of the muon pair has been in the certain value range. Note that we will use total 500 bins in the histogram, so you won't spot the separate bins because there are so many of them. You can also change the number of bins and see how the figure looks like."
   ]
  },
  {
   "cell_type": "code",
   "execution_count": 11,
   "metadata": {},
   "outputs": [
    {
     "data": {
      "image/png": "[encoded data removed]",
      "text/plain": [
       "<Figure size 432x288 with 1 Axes>"
      ]
     },
     "metadata": {
      "needs_background": "light"
     },
     "output_type": "display_data"
    }
   ],
   "source": [
    "# Plot the histogram with the function hist() of the matplotlib.pylab-module\n",
    "# \"Bins\" determines the number of the bins used in the histogram.\n",
    "plt.hist(invariant_mass, bins=500)\n",
    "\n",
    "# Name the axes and give the title.\n",
    "plt.xlabel('Invariant mass [GeV]')\n",
    "plt.ylabel('Number of events')\n",
    "plt.title('The histogram of the invariant masses of two muons')\n",
    "\n",
    "# Show the plot.\n",
    "plt.show()"
   ]
  },
  {
   "cell_type": "markdown",
   "metadata": {},
   "source": [
    "### 4) Analysis"
   ]
  },
  {
   "cell_type": "markdown",
   "metadata": {},
   "source": [
    "- What does the histogram tell?\n",
    "- What happens around the mass 9.5 GeV?"
   ]
  },
  {
   "cell_type": "markdown",
   "metadata": {},
   "source": [
    "### 5) Exercise"
   ]
  },
  {
   "cell_type": "markdown",
   "metadata": {},
   "source": [
    "1. The following datafile contains data from similar events than the one we already plotted, but from a wider range of invariant mass. Use this datafile to make a similar histogram than in the demonstration.\n",
    "\n",
    "    <div style=\"display: inline\">\"http://opendata.cern.ch/record/545/files/Dimuon_DoubleMu.csv\"</div> \n",
    "    \n",
    "    You can add the file URL directly in to the pd.read(\"filepath\")-function.\n",
    "\n",
    "1. Below is a graph of the invariant mass for similar kind of events that we are studying. See if you can find a peak describing a specific particle from your own graph. \n",
    " \n",
    "1. You can zoom to a spesific peak by using the \"plt.hist\"-function:\n",
    "\n",
    "    plt.hist(variable_to_plot, bins=number, range=(low limit, high limit))\n",
    "    \n",
    "    You can for example write plt.hist(invariant_mass, bins=500, range=(2.5, 3.5)) to zoom for the values of invariant mass between 2.5 GeV and 3.5 Gev to see the $J/\\Psi$ partcle.\n",
    "    \n",
    "<img src=\"https://github.com/cms-opendata-education/cms-jupyter-materials-finnish/blob/master/Kuvat/inv_massa.PNG?raw=true\" width=\"700\" />\n"
   ]
  },
  {
   "cell_type": "code",
   "execution_count": null,
   "metadata": {},
   "outputs": [],
   "source": []
  },
  {
   "cell_type": "code",
   "execution_count": null,
   "metadata": {},
   "outputs": [],
   "source": []
  },
  {
   "cell_type": "code",
   "execution_count": null,
   "metadata": {},
   "outputs": [],
   "source": []
  },
  {
   "cell_type": "code",
   "execution_count": null,
   "metadata": {},
   "outputs": [],
   "source": []
  },
  {
   "cell_type": "code",
   "execution_count": null,
   "metadata": {},
   "outputs": [],
   "source": []
  }
 ],
 "metadata": {
  "kernelspec": {
   "display_name": "Python 3",
   "language": "python",
   "name": "python3"
  },
  "language_info": {
   "codemirror_mode": {
    "name": "ipython",
    "version": 3
   },
   "file_extension": ".py",
   "mimetype": "text/x-python",
   "name": "python",
   "nbconvert_exporter": "python",
   "pygments_lexer": "ipython3",
   "version": "3.7.3"
  }
 },
 "nbformat": 4,
 "nbformat_minor": 2
}
