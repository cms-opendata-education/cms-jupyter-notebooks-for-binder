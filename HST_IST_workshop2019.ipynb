{
 "cells": [
  {
   "cell_type": "markdown",
   "metadata": {},
   "source": [
    "<br>\n",
    "\n",
    "# Plotting the invariant mass histogram"
   ]
  },
  {
   "cell_type": "markdown",
   "metadata": {},
   "source": [
    "\n",
    "\n",
    "<img src=\"https://highenergy.physics.uiowa.edu/application/files/9815/4732/1791/CMS_Detector.png\"  align=\"center\" width=\"900px\" title=\"CMS detector at CERN\"> \n",
    "<a id=\"standardimalli\"></a>\n",
    "\n",
    "In this exercise we learn how to use Python-programming to plot a histogram. We use a dataset collected by the CMS detector in 2011 [1]. The data consists of such events, where two muons were created in a collision. We want to plot a histogram of the invariant mass of the two muons created in the collision. Events with specific criteria [2] have been selected in the CSV file _Ymumu_\\__Run2011A.csv_ which we are using.\n",
    "\n",
    "Explore the different code cells below and run the codes by clicking the code cell active and pressing the _Run_-button on the upper panel. In the code cells the lines which begin with #-character are comment lines, where you can see what the actual code does. Other lines are code lines.\n",
    "<br>\n",
    "<br>\n",
    "[1]  CMS collaboration (2016). DoubleMu primary dataset in AOD format from RunA of 2011 (/DoubleMu/Run2011A-12Oct2013-v1/AOD). CERN Open Data Portal. DOI: [10.7483/OPENDATA.CMS.RZ34.QR6N](http://doi.org/10.7483/OPENDATA.CMS.RZ34.QR6N).\n",
    "<br>\n",
    "[2] Thomas McCauley (2016). Ymumu. Jupyter Notebook file. https://github.com/tpmccauley/cmsopendata-jupyter/blob/hst-0.1/Ymumu.ipynb."
   ]
  },
  {
   "cell_type": "markdown",
   "metadata": {},
   "source": [
    "### 1) Start"
   ]
  },
  {
   "cell_type": "code",
   "execution_count": null,
   "metadata": {},
   "outputs": [],
   "source": [
    "# Let's import the needed modules.\n",
    "# Pandas-module is needed to read the csv-file.\n",
    "# Matplotlib.pylab-module is needed to make plots.\n",
    "# Modules are named as pd and plt so that we don't have to write the whole name in the future.\n",
    "import pandas as pd\n",
    "import matplotlib.pylab as plt"
   ]
  },
  {
   "cell_type": "markdown",
   "metadata": {},
   "source": [
    "### 2) Getting the data"
   ]
  },
  {
   "cell_type": "code",
   "execution_count": null,
   "metadata": {},
   "outputs": [],
   "source": [
    "# Read the file \"Ymumu_Run2011A.csv\" and save the content to a variable called \"dataset\"\n",
    "dataset = pd.read_csv(\"https://raw.githubusercontent.com/cms-opendata-education/cms-jupyter-materials-english/master/Data/Ymumu_Run2011A.csv\")\n",
    "\n",
    "# Let's see what our datafile contains. You can read more lines by inserting a number in\n",
    "# parenthesis. The default is 5 lines.\n",
    "dataset.head()"
   ]
  },
  {
   "cell_type": "code",
   "execution_count": null,
   "metadata": {},
   "outputs": [],
   "source": [
    "# We want to make a histogram of the invariant masses, which can be found in the column \"M\". \n",
    "# Let's save the column \"M\" from the \"dataset\" to the variable \"invariant_mass\".\n",
    "invariant_mass = dataset['M']"
   ]
  },
  {
   "cell_type": "markdown",
   "metadata": {},
   "source": [
    "### 3) Plotting the histogram"
   ]
  },
  {
   "cell_type": "markdown",
   "metadata": {},
   "source": [
    "Now we can create and plot the histogram of the values of the invariant masses that we got. The histogram shows that in how many events the invariant mass of the muon pair has been in the certain value range. Note that we will use total 500 bins in the histogram, so you won't spot the separate bins because there are so many of them. You can also change the number of bins and see how the figure looks like."
   ]
  },
  {
   "cell_type": "code",
   "execution_count": null,
   "metadata": {},
   "outputs": [],
   "source": [
    "# Plot the histogram with the function hist() of the matplotlib.pylab-module\n",
    "# \"Bins\" determines the number of the bins used in the histogram.\n",
    "plt.hist(invariant_mass, bins=500)\n",
    "\n",
    "# Name the axes and give the title.\n",
    "plt.xlabel('Invariant mass [GeV]')\n",
    "plt.ylabel('Number of events')\n",
    "plt.title('The histogram of the invariant masses of two muons')\n",
    "\n",
    "# Show the plot.\n",
    "plt.show()"
   ]
  },
  {
   "cell_type": "markdown",
   "metadata": {},
   "source": [
    "### 4) Analysis"
   ]
  },
  {
   "cell_type": "markdown",
   "metadata": {},
   "source": [
    "- What does the histogram tell?\n",
    "- What happens around the mass 9.5 GeV?"
   ]
  },
  {
   "cell_type": "markdown",
   "metadata": {},
   "source": [
    "### 5) Exercise"
   ]
  },
  {
   "cell_type": "markdown",
   "metadata": {},
   "source": [
    "1. The following datafile contains data from similar events than the one we already plotted, but it has a wider range of invariant masses Use this datafile to make a similar histogram than in the demonstration.\n",
    "\n",
    "    <div style=\"display: inline\">\"http://opendata.cern.ch/record/545/files/Dimuon_DoubleMu.csv\"</div> \n",
    "    \n",
    "    You can add the file URL directly in to the pd.read(\"filepath\")-function.\n",
    "\n",
    "1. Below is a graph of the invariant mass for similar kind of events that we are studying. See if you can find a peak describing a specific particle from your own graph. \n",
    " \n",
    "1. You can zoom to a spesific peak by using the \"plt.hist\"-function:\n",
    "\n",
    "    plt.hist(variable_to_plot, bins=number, range=(low limit, high limit))\n",
    "    \n",
    "    You can for example write plt.hist(invariant_mass, bins=500, range=(2.5, 3.5)) to zoom for the values of invariant mass between 2.5 GeV and 3.5 Gev to see the $J/\\Psi$ partcle.\n",
    "    \n",
    "<img src=\"https://github.com/cms-opendata-education/cms-jupyter-materials-finnish/blob/master/Kuvat/inv_massa.PNG?raw=true\" width=\"700\" />\n"
   ]
  },
  {
   "cell_type": "code",
   "execution_count": null,
   "metadata": {},
   "outputs": [],
   "source": []
  },
  {
   "cell_type": "code",
   "execution_count": null,
   "metadata": {},
   "outputs": [],
   "source": []
  },
  {
   "cell_type": "code",
   "execution_count": null,
   "metadata": {},
   "outputs": [],
   "source": []
  },
  {
   "cell_type": "code",
   "execution_count": null,
   "metadata": {},
   "outputs": [],
   "source": []
  },
  {
   "cell_type": "code",
   "execution_count": null,
   "metadata": {},
   "outputs": [],
   "source": []
  }
 ],
 "metadata": {
  "kernelspec": {
   "display_name": "Python 3",
   "language": "python",
   "name": "python3"
  },
  "language_info": {
   "codemirror_mode": {
    "name": "ipython",
    "version": 3
   },
   "file_extension": ".py",
   "mimetype": "text/x-python",
   "name": "python",
   "nbconvert_exporter": "python",
   "pygments_lexer": "ipython3",
   "version": "3.7.3"
  }
 },
 "nbformat": 4,
 "nbformat_minor": 2
}
