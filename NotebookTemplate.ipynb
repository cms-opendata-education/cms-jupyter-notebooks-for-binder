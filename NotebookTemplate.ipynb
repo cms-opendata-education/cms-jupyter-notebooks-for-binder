{
 "cells": [
  {
   "cell_type": "markdown",
   "metadata": {},
   "source": [
    "<img src=\"https://cds.cern.ch/images/OPEN-PHO-EXP-2017-003-1/file?size=medium\"  align=\"right\" width=\"380px\" title=\" As the number of proton collisions (the blue lines) increase, the more of these so-called strange hadrons are seen (as shown by the red squares in the graph). (Image: CERN) \">  \n",
    "\n",
    "# Your group’s outreach notebook\n",
    "\n",
    "Now it's your time to reach out! Create your own interactive Notebook and show the world what summer students at CERN really do.\n",
    "\n",
    "There is a few steps already implemented to this notebook. You can either follow the steps or wipe it clean and start with a clean sheet. \n",
    "\n",
    "MyBinder or Google Colab will not save your work, so *please* remember to save it before closing. We would love to see your work!\n",
    "\n",
    "(If you want to add pictures, you can find the markdown code from this cell, just double click $\\color{orange}{\\text{here}}$."
   ]
  },
  {
   "cell_type": "markdown",
   "metadata": {},
   "source": [
    "## Choose your subject and a target audience\n",
    "> What would you like to show to high school students to make them enthusiastic about particle physics? \n",
    "\n",
    "> Or could you present you work in CERN to your non-scientist friends back home? \n",
    "\n",
    "> Is there something you would like to teach to the next generation of summer students starting from the basics?\n",
    "\n",
    "\n",
    "In addition, could you make your presentation a bit interactive to not bore them to death?\n",
    "\n",
    "    Just test your idea and see how it goes!\n",
    "\n",
    "If you really can't come up with any ideas you may use one of ours and recreate a better version! Some ideas can be found at [the end of this notebook](#idiksii)."
   ]
  },
  {
   "cell_type": "markdown",
   "metadata": {},
   "source": [
    "## Find data\n",
    "\n",
    "\n",
    "Best place to find open particle physics data is of course the [CERN open data portal](http://opendata.cern.ch/).\n",
    "Easiest way is to filter the files by format (csv) and then use pandas `read_csv()` -function.\n",
    "\n",
    "Open data portal might feel like a maze when you first see it. So here is listed few nice records: \n",
    "\n",
    "Several datasets in order to obtain candidate J/psi and Y events, candidate W and Z boson events, and general di-electron and dimuon spectra.\n",
    "http://opendata.cern.ch/record/545\n",
    "\n",
    "Higgs candidate events\n",
    "http://opendata.cern.ch/record/5200\n",
    "\n",
    "Feel free to use other sources and file formats too!"
   ]
  },
  {
   "cell_type": "code",
   "execution_count": null,
   "metadata": {
    "collapsed": true
   },
   "outputs": [],
   "source": [
    "# import packages you need\n",
    "# for example:\n",
    "import pandas as pd\n",
    "import matplotlib.pylab as plt\n",
    "import numpy as np"
   ]
  },
  {
   "cell_type": "code",
   "execution_count": null,
   "metadata": {
    "collapsed": true
   },
   "outputs": [],
   "source": [
    "# read your data"
   ]
  },
  {
   "cell_type": "markdown",
   "metadata": {},
   "source": [
    "## Use and visualize the data\n",
    "\n",
    "Do calculations plot images and fit functions. You can also leave some tasks for your audience.  But remember to explain each step and keep it as simple as possible!\n"
   ]
  },
  {
   "cell_type": "code",
   "execution_count": null,
   "metadata": {
    "collapsed": true
   },
   "outputs": [],
   "source": []
  },
  {
   "cell_type": "code",
   "execution_count": null,
   "metadata": {
    "collapsed": true
   },
   "outputs": [],
   "source": []
  },
  {
   "cell_type": "code",
   "execution_count": null,
   "metadata": {
    "collapsed": true
   },
   "outputs": [],
   "source": []
  },
  {
   "cell_type": "markdown",
   "metadata": {},
   "source": [
    "## Summary and conclusions \n",
    "What did we learn about this exercise? How is it relevant to your study or to your audience?\n"
   ]
  },
  {
   "cell_type": "markdown",
   "metadata": {},
   "source": [
    "<a id=\"idiksii\"></a>\n",
    "# Examples and ideas\n",
    "\n",
    "#### Higgs hunting \n",
    "We already have a boring notebook about detecting Higgs. Can you recreate a better one? Higgs deserves the best!\n",
    "Find the old notebook [here.](https://colab.research.google.com/github/cms-opendata-education/cms-jupyter-materials-english/blob/master/Exercises-with-open-data/Advanced/Hunting-the-Higgs-4leptons.ipynb)\n",
    "\n",
    "\n",
    "\n",
    "#### Pseudorapidity\n",
    "From almost every file you can easily see the effect of pseudorapidity. Could this effect be visualised to non-scientist?\n",
    "\n",
    "#### Errors and uncertainty?\n",
    "How to teach highschool student about an uncertainty in measurements? \n",
    "\n",
    "#### Finding a particle from invariant mass\n",
    "Classical but works! It is rewarding to actually find and see something from a huge data set.\n",
    "\n",
    "#### Why we need so much data?\n",
    "How to visually present some of the reasons we collect so much data? \n",
    "\n",
    "#### Who works at cern?\n",
    "\n",
    "Cooperation between nations, universities and scientists is the driving force behind CERN’s research.\n",
    "Could you illustrate the divers enviroment we are fortunate to work in? \n",
    "Here is the latest report of people in cern: https://cds.cern.ch/record/2677223/files/CERN-HR-STAFF-STAT-2018-RESTR.pdf\n",
    "\n",
    "We also have some outdated csv-files derived from such report: \n",
    "\n",
    "https://raw.githubusercontent.com/cms-opendata-education/cms-jupyter-materials-finnish/master/Data/CERN_memberstates.csv\n",
    "\n",
    "https://raw.githubusercontent.com/cms-opendata-education/cms-jupyter-materials-finnish/master/Data/CERN_staff_age_over_a_decade.csv\n",
    "\n",
    "https://raw.githubusercontent.com/cms-opendata-education/cms-jupyter-materials-finnish/master/Data/CERN_staff_by_dept_2017.csv\n",
    "\n",
    "https://raw.githubusercontent.com/cms-opendata-education/cms-jupyter-materials-finnish/master/Data/CERN_staff_by_profession.csv\n",
    "\n",
    "https://raw.githubusercontent.com/cms-opendata-education/cms-jupyter-materials-finnish/master/Data/CERN_staff_by_years.csv\n",
    "\n",
    "https://raw.githubusercontent.com/cms-opendata-education/cms-jupyter-materials-finnish/master/Data/CERN_student_recruitment.csv\n",
    "\n",
    "https://raw.githubusercontent.com/cms-opendata-education/cms-jupyter-materials-finnish/master/Data/CERN_users_experiment_profession_nationality.csv\n",
    "\n",
    "https://raw.githubusercontent.com/cms-opendata-education/cms-jupyter-materials-finnish/master/Data/CERN_users_gender.csv\n",
    "\n",
    "\n",
    "#### Something really odd like Sound from collision data?\n",
    "We have a short [finnish version](https://colab.research.google.com/github/cms-opendata-education/cms-jupyter-materials-finnish/blob/master/Demot/Muut_aiheet/%C3%84%C3%A4nt%C3%A4-datasta.ipynb) of this. It might help you to get started. Don't hesitate to reach out for translations!\n",
    "\n",
    "#### Filtering or comparing data?\n",
    "\n",
    "#### Something else than just histograms?\n",
    " \n",
    "\n",
    "\n",
    "\n"
   ]
  },
  {
   "cell_type": "code",
   "execution_count": null,
   "metadata": {
    "collapsed": true
   },
   "outputs": [],
   "source": []
  }
 ],
 "metadata": {
  "kernelspec": {
   "display_name": "Python 3",
   "language": "python",
   "name": "python3"
  },
  "language_info": {
   "codemirror_mode": {
    "name": "ipython",
    "version": 3
   },
   "file_extension": ".py",
   "mimetype": "text/x-python",
   "name": "python",
   "nbconvert_exporter": "python",
   "pygments_lexer": "ipython3",
   "version": "3.6.3"
  }
 },
 "nbformat": 4,
 "nbformat_minor": 2
}
