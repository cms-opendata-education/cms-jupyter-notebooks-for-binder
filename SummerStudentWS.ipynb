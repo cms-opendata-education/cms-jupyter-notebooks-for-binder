{
 "cells": [
  {
   "cell_type": "markdown",
   "metadata": {},
   "source": [
    "<br>\n",
    " <img src=\"https://github.com/cms-opendata-education/cms-jupyter-materials-finnish/blob/master/Kuvat/CMSlogo_color_label_1024_May2014.png?raw=true\"  align=\"right\" width=\"100px\" title=\"CMS projektin oma logo\"> \n",
    " <br>\n",
    "\n",
    "# Open data workshop for CERN summer students"
   ]
  },
  {
   "cell_type": "markdown",
   "metadata": {},
   "source": [
    "In a regular outreach-notebook there would be an introduction to CERN, CMS-detector and basic particle physics concepts such as the standard model. To save time, we will skip this part as many of you are already familiar with these subjects. \n",
    "\n",
    "If you are interested in seeing the introduction part, give [this example exercise](https://mybinder.org/v2/gh/cms-opendata-education/zboson-exercise/master) a look.\n",
    "\n",
    "<img src=\"https://highenergy.physics.uiowa.edu/application/files/9815/4732/1791/CMS_Detector.png\"  align=\"center\" width=\"900px\" title=\"CMS detector at CERN\"> "
   ]
  },
  {
   "cell_type": "markdown",
   "metadata": {},
   "source": [
    "## Task"
   ]
  },
  {
   "cell_type": "markdown",
   "metadata": {},
   "source": [
    "Summer student at CERN has a task to study the data from proton-proton collisions at the CMS-detector from 2011. This data contains events where two muons were observed. However, the summer student has been really careless and he has somehow managed to divide the data into six weirdly named datafiles. Each datafile contains data from a decay of some particle. The desperate summer student begs for your help to define which data corresponds to which particle. Are you able to help him?"
   ]
  },
  {
   "cell_type": "markdown",
   "metadata": {},
   "source": [
    "## How can I do that?"
   ]
  },
  {
   "cell_type": "markdown",
   "metadata": {},
   "source": [
    "It is known from previous research that multiple particles can decay into two muons and that the initial particles can be distinguished by calculating the invariant mass of the muons. With the CMS-detector we can measure the energy and momentum of the muons. If the energy and momentum of two muons are known, the invariant mass of those muons is\n",
    "\n",
    "$M = \\sqrt{(E_1 + E_2)^2 - \\|\\textbf{p}_1 + \\textbf{p}_2 \\| ^2}$,\n",
    "\n",
    "where $\\|\\textbf{p}_1 + \\textbf{p}_2 \\|^2$ is the square of the vector norm. This can be calculated by\n",
    "\n",
    "$\\|\\textbf{p}_1 + \\textbf{p}_2 \\|^2=(p_{x1}+p_{x2})^2+(p_{y1}+p_{y2})^2+(p_{z1}+p_{z2})^2$.\n",
    " \n",
    "If the muons were initially from the same particle, the invariant mass corresponds to the mass of the parent particle. If the muons were not from the same particle, the value means nothing.\n",
    "\n",
    "Now we just need to calculate the invariant mass for each pair of muons and plot a histogram to see if there is something interesting going on!"
   ]
  },
  {
   "cell_type": "markdown",
   "metadata": {},
   "source": [
    "## Analysing the data using Python"
   ]
  },
  {
   "cell_type": "markdown",
   "metadata": {},
   "source": [
    "The steps needed to plot the histogram are:\n",
    "1. Import the needed python modules. You can use pandas to read csv-file, numpy to make calculations and matplotlib.pylab to make plots. \n",
    "1. Read the datafile.\n",
    "1. Calculate the invariant masses for each event.\n",
    "1. Plot the histogram.\n",
    "1. Compare the histogram to the complete muon spectrum at the bottom of this page and determine which particle decayed into two muons.\n",
    "\n",
    "If you're new to programming or Python, you can follow the guide to do the histogram. If you are more experienced you can also try it on your own!"
   ]
  },
  {
   "cell_type": "markdown",
   "metadata": {},
   "source": [
    "### Step 1: Import the modules"
   ]
  },
  {
   "cell_type": "markdown",
   "metadata": {},
   "source": [
    "In programming, **modules** are just packages of functions, which can be used to perform certain tasks. In order to be able to read a csv-datafile you need a module called _pandas_. To be able to perform advanced calculations (such as taking the square root) you can use a module called _numpy_. Finally, for plotting the histogram you need a module called _matplotlib.pylab_. In Python you can import modules by writing\n",
    "\n",
    "> $\\color{green}{\\text{import}}\\text{ package_name }\\color{green}{\\text{as}}\\text{ abbrevation}$\n",
    "\n",
    "After that you can just use the abbrevation to access that module. For example let's calculate the square root of number 4 using the _numpy_-module:"
   ]
  },
  {
   "cell_type": "code",
   "execution_count": null,
   "metadata": {},
   "outputs": [],
   "source": [
    "# This is a code-cell. You can run this cell by clicking it active and pressing CTRL+ENTER.\n",
    "\n",
    "import numpy as np\n",
    "np.sqrt(4)"
   ]
  },
  {
   "cell_type": "markdown",
   "metadata": {},
   "source": [
    "Now we have already imported the _numpy_-module. Next you should import the _pandas_ and the _matplotlib.pylab_ modules. The standard abbrevations for those modules are pd and plt, respectively."
   ]
  },
  {
   "cell_type": "code",
   "execution_count": null,
   "metadata": {},
   "outputs": [],
   "source": [
    "# Import modules here"
   ]
  },
  {
   "cell_type": "markdown",
   "metadata": {},
   "source": [
    "### Step 2: Read the datafile"
   ]
  },
  {
   "cell_type": "markdown",
   "metadata": {},
   "source": [
    "Next, we need to read the datafile. The datafiles are located in a GitHub repository and in order to access them we need their URL-addresses. Here are the URLs:\n",
    "\n",
    "peakdata1: https://raw.githubusercontent.com/cms-opendata-education/cms-jupyter-materials-english/master/Data/peakdata1.csv\n",
    "peakdata2: https://raw.githubusercontent.com/cms-opendata-education/cms-jupyter-materials-english/master/Data/peakdata2.csv\n",
    "peakdata3: https://raw.githubusercontent.com/cms-opendata-education/cms-jupyter-materials-english/master/Data/peakdata3.csv\n",
    "peakdata4: https://raw.githubusercontent.com/cms-opendata-education/cms-jupyter-materials-english/master/Data/peakdata4.csv\n",
    "peakdata5: https://raw.githubusercontent.com/cms-opendata-education/cms-jupyter-materials-english/master/Data/peakdata5.csv\n",
    "peakdata6: https://raw.githubusercontent.com/cms-opendata-education/cms-jupyter-materials-english/master/Data/peakdata6.csv\n",
    "\n",
    "You can use the *read_csv()*-function in the _pandas_-module to read your file. Choose the file corresponding to your group number, read it and save it's contents to a variable. The function is called as\n",
    "\n",
    "> $\\text{variable = pd.}\\color{blue}{\\text{read_csv}}\\text{(url)}$\n",
    "\n",
    "To see what kind of data this file contains, you can see some rows of the data by writing\n",
    "\n",
    "> $\\text{variable.head()}$\n",
    "\n",
    "**Optional**: If you're curious how large the datafile is, you can print the length of the file by\n",
    "\n",
    "> $\\color{green}{\\text{print}}\\text{(}\\color{green}{\\text{len}}\\text{(variable))}$"
   ]
  },
  {
   "cell_type": "code",
   "execution_count": null,
   "metadata": {},
   "outputs": [],
   "source": [
    "# Read datafile here"
   ]
  },
  {
   "cell_type": "markdown",
   "metadata": {},
   "source": [
    "### Step 3: Calculate the invariant masses"
   ]
  },
  {
   "cell_type": "markdown",
   "metadata": {},
   "source": [
    "Now that we know what kind of data we have, we can calculate the invariant mass of the two muons. We need to extract the needed columns from the datafile. You can do this by writing\n",
    "\n",
    "> $\\text{column }\\color{purple}{\\text{=}}\\text{ variable.}\\color{blue}{\\text{column_title}}$\n",
    "\n",
    "Now you can calculate the invariant mass by using the equation above. You can calculate the square of a value by writing\n",
    "\n",
    "> $\\text{value}\\color{purple}{\\text{**}}\\color{green}{\\text{2}}$\n",
    "\n",
    "Remember to save the invariant mass values to a variable. Note that if you do the calculation by using entire columns, you can calculate all events at once."
   ]
  },
  {
   "cell_type": "code",
   "execution_count": null,
   "metadata": {},
   "outputs": [],
   "source": [
    "# Calculate invariant mass here"
   ]
  },
  {
   "cell_type": "markdown",
   "metadata": {},
   "source": [
    "### Step 4: Plot the histogram"
   ]
  },
  {
   "cell_type": "markdown",
   "metadata": {},
   "source": [
    "To plot a histogram, you need to know a couple of functions from the _matplotlib.pylab_-module. The basic functions you need are\n",
    "\n",
    "> $\\text{plt.}\\color{blue}{\\text{hist}}\\text{(variable_to_plot, bins=number_of_bins)}$\n",
    "\n",
    "> $\\text{plt.}\\color{blue}{\\text{title}}\\text{('main_title')}$\n",
    "\n",
    "> $\\text{plt.}\\color{blue}{\\text{xlabel}}\\text{('x_axis_title')}$\n",
    "\n",
    "> $\\text{plt.}\\color{blue}{\\text{ylabel}}\\text{('y_axis_title')}$\n",
    "\n",
    "> $\\text{plt.}\\color{blue}{\\text{show}}\\text{()}$\n",
    "\n",
    "Now you should be able to plot the histogram.\n",
    "\n",
    "**Optional**: You can zoom into a specific range by adding _range_-attribute to the _hist_-function:\n",
    "\n",
    "> $\\text{plt.}\\color{blue}{\\text{hist}}\\text{(variable_to_plot, bins}\\color{purple}{\\text{=}}\\color{green}{\\text{number_of_bins}}\\text{, }\\color{green}{\\text{range}}\\color{purple}{\\text{=}}\\color{green}{\\text{(min,max))}}$"
   ]
  },
  {
   "cell_type": "code",
   "execution_count": null,
   "metadata": {},
   "outputs": [],
   "source": [
    "# Plot the histogram here"
   ]
  },
  {
   "cell_type": "markdown",
   "metadata": {},
   "source": [
    "### Step 5: Compare the histogram"
   ]
  },
  {
   "cell_type": "markdown",
   "metadata": {},
   "source": [
    "Compare your histogram to the figure below and determine, which particle is present in your slice of data. The desperate summer student will be grateful!"
   ]
  },
  {
   "cell_type": "markdown",
   "metadata": {},
   "source": [
    "<img src=\"https://github.com/cms-opendata-education/cms-jupyter-materials-finnish/blob/master/Kuvat/inv_massa.PNG?raw=true\"  align=\"right\" width=\"600px\" title=\"Invariant mass spectrum for two muon events observed by the CMS-detector.\">\n",
    "\n",
    " |\tParticle | Mass [GeV]    |\n",
    "|----------|:-----------------:|\n",
    "| η (eta) | 0.548 |\n",
    "|  ρ,  (rho) | 0.775|\n",
    "|    ω (omega)     |  0.782     |\n",
    "|   φ (phi)     | 1.019  |\n",
    "|   J/ψ (J/psi) |  3.097  |\n",
    "|   ψ’ (psi) | 3.686 |\n",
    "| Υ (ypsilon) | 9.460 |\n",
    "| Z-boson  | 91.188 |"
   ]
  },
  {
   "cell_type": "markdown",
   "metadata": {},
   "source": [
    "**Note**: It is also possible to do this directly from ROOT-data but for educational use csv-files are much more convenient."
   ]
  }
 ],
 "metadata": {
  "kernelspec": {
   "display_name": "Python 3",
   "language": "python",
   "name": "python3"
  },
  "language_info": {
   "codemirror_mode": {
    "name": "ipython",
    "version": 3
   },
   "file_extension": ".py",
   "mimetype": "text/x-python",
   "name": "python",
   "nbconvert_exporter": "python",
   "pygments_lexer": "ipython3",
   "version": "3.7.3"
  }
 },
 "nbformat": 4,
 "nbformat_minor": 2
}
