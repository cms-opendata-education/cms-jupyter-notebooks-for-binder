{
 "cells": [
  {
   "cell_type": "markdown",
   "metadata": {},
   "source": [
    "You could also use animations, although those require a bit more dedication from your audience as they are quite slow to create when more than a few frames are used. Like really slow, the animation down below plots 25 000 datapoints and took about 8 minutes to make on a low-grade laptop.\n",
    "\n",
    "This animation WORKS in colab, even though it does spit out a few warnings. SWAN seems to have more problems, as it uses an older version of Python."
   ]
  },
  {
   "cell_type": "code",
   "execution_count": null,
   "metadata": {},
   "outputs": [],
   "source": [
    "import pandas as pd\n",
    "import numpy as np\n",
    "import matplotlib.pyplot as plt\n",
    "import matplotlib.animation\n",
    "from scipy.stats import norm\n",
    "\n",
    "\n",
    "%matplotlib inline"
   ]
  },
  {
   "cell_type": "code",
   "execution_count": null,
   "metadata": {},
   "outputs": [],
   "source": [
    "muons = pd.read_csv('http://opendata.cern.ch/record/545/files/Dimuon_DoubleMu.csv')"
   ]
  },
  {
   "cell_type": "code",
   "execution_count": null,
   "metadata": {},
   "outputs": [],
   "source": [
    "data = muons['M'].copy()\n",
    "\n",
    "def updt_hist(num, data):\n",
    "    plt.cla() # this clears previous axes\n",
    "    axes = plt.gca() # this gets current axes\n",
    "    # axes.set_ylim(0,1500) # here you can set more permanent axes if you want\n",
    "    # axes.set_xlim(0,125)\n",
    "    plt.hist(data[:num*50], bins = 200) # here we can define the amount of events per step"
   ]
  },
  {
   "cell_type": "code",
   "execution_count": null,
   "metadata": {},
   "outputs": [],
   "source": [
    "%%capture\n",
    "# this magic function prevents unsightly extra figures popping to view\n",
    "fig = plt.figure(figsize=(15,10))\n",
    "\n",
    "anim = matplotlib.animation.FuncAnimation(fig, updt_hist, frames = 300, fargs = (data,))\n",
    "\n",
    "from IPython.display import HTML\n",
    "HTML(anim.to_jshtml())"
   ]
  },
  {
   "cell_type": "code",
   "execution_count": null,
   "metadata": {},
   "outputs": [],
   "source": [
    "HTML(anim.to_jshtml())"
   ]
  }
 ],
 "metadata": {
  "kernelspec": {
   "display_name": "Python 3",
   "language": "python",
   "name": "python3"
  },
  "language_info": {
   "codemirror_mode": {
    "name": "ipython",
    "version": 3
   },
   "file_extension": ".py",
   "mimetype": "text/x-python",
   "name": "python",
   "nbconvert_exporter": "python",
   "pygments_lexer": "ipython3",
   "version": "3.6.4"
  }
 },
 "nbformat": 4,
 "nbformat_minor": 2
}
